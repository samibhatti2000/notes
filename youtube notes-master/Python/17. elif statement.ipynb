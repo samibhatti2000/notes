{
 "cells": [
  {
   "cell_type": "code",
   "execution_count": 1,
   "metadata": {},
   "outputs": [
    {
     "name": "stdout",
     "output_type": "stream",
     "text": [
      "C is greater\n"
     ]
    }
   ],
   "source": [
    "a,b,c=10,20,30\n",
    "if a>b and a>c:\n",
    "    print('A is greater')\n",
    "elif b>a and b>c:\n",
    "    print('B is greater')\n",
    "else:\n",
    "    print('C is greater')"
   ]
  },
  {
   "cell_type": "code",
   "execution_count": null,
   "metadata": {},
   "outputs": [],
   "source": [
    "grade=input('Enter your marks')\n",
    "grade=float(grade)\n",
    "if grade>90 and grade<=100:\n",
    "    print('Grade A')\n",
    "elif grade>80 and grade<=90:\n",
    "    print('Grade B')\n",
    "elif grade>70 and grade<=80:\n",
    "    print('Grade C')\n",
    "elif grade>60 and grade<=70:\n",
    "    print('Grade D')\n",
    "elif grade>50 and grade<=60:\n",
    "    print('Grade E')\n",
    "else:\n",
    "    print('Fail')\n"
   ]
  }
 ],
 "metadata": {
  "kernelspec": {
   "display_name": "Python 3",
   "language": "python",
   "name": "python3"
  },
  "language_info": {
   "codemirror_mode": {
    "name": "ipython",
    "version": 3
   },
   "file_extension": ".py",
   "mimetype": "text/x-python",
   "name": "python",
   "nbconvert_exporter": "python",
   "pygments_lexer": "ipython3",
   "version": "3.8.3"
  }
 },
 "nbformat": 4,
 "nbformat_minor": 4
}
