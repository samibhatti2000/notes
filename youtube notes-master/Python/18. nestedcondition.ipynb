{
 "cells": [
  {
   "cell_type": "code",
   "execution_count": 3,
   "metadata": {},
   "outputs": [
    {
     "name": "stdout",
     "output_type": "stream",
     "text": [
      "Do you want to voteyes\n",
      "Enter your age15\n",
      "You are not eligible for vote\n"
     ]
    }
   ],
   "source": [
    "x=input('Do you want to vote')\n",
    "if x=='yes':\n",
    "    age=input('Enter your age')\n",
    "    age=int(age)\n",
    "    \n",
    "    if(age>=18):\n",
    "        print('You are eligible for vote')\n",
    "        \n",
    "    else:\n",
    "        print('You are not eligible for vote')\n",
    "        \n",
    "    "
   ]
  },
  {
   "cell_type": "code",
   "execution_count": 4,
   "metadata": {},
   "outputs": [
    {
     "name": "stdout",
     "output_type": "stream",
     "text": [
      "C is greater\n"
     ]
    }
   ],
   "source": [
    "x=10\n",
    "if(x>=10):\n",
    "    a,b,c=10,20,30;\n",
    "    \n",
    "    if(a>b and a>c):\n",
    "        print('A is greater')\n",
    "        \n",
    "    elif(b>a and b>c):\n",
    "        print('B is greater')\n",
    "        \n",
    "    else:\n",
    "        print('C is greater')\n",
    "        \n",
    "    "
   ]
  }
 ],
 "metadata": {
  "kernelspec": {
   "display_name": "Python 3",
   "language": "python",
   "name": "python3"
  },
  "language_info": {
   "codemirror_mode": {
    "name": "ipython",
    "version": 3
   },
   "file_extension": ".py",
   "mimetype": "text/x-python",
   "name": "python",
   "nbconvert_exporter": "python",
   "pygments_lexer": "ipython3",
   "version": "3.8.3"
  }
 },
 "nbformat": 4,
 "nbformat_minor": 4
}
