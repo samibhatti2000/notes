{
 "cells": [
  {
   "cell_type": "code",
   "execution_count": 1,
   "metadata": {},
   "outputs": [
    {
     "name": "stdout",
     "output_type": "stream",
     "text": [
      "Hello World\n"
     ]
    }
   ],
   "source": [
    "def Hello():\n",
    "    print('Hello World')\n",
    "    \n",
    "Hello()"
   ]
  },
  {
   "cell_type": "code",
   "execution_count": 3,
   "metadata": {},
   "outputs": [
    {
     "name": "stdout",
     "output_type": "stream",
     "text": [
      "Sum is 5\n"
     ]
    }
   ],
   "source": [
    "def Sum():\n",
    "    x=2\n",
    "    y=3\n",
    "    z=x+y\n",
    "    print('Sum is',z)\n",
    "    \n",
    "Sum()"
   ]
  },
  {
   "cell_type": "code",
   "execution_count": 4,
   "metadata": {},
   "outputs": [
    {
     "name": "stdout",
     "output_type": "stream",
     "text": [
      "x is not equal to y\n"
     ]
    }
   ],
   "source": [
    "def Sum():\n",
    "    x=2\n",
    "    y=3\n",
    "    if(x==y):\n",
    "        print('x is equal to y')\n",
    "    else:\n",
    "        print('x is not equal to y')\n",
    "    \n",
    "Sum()"
   ]
  },
  {
   "cell_type": "code",
   "execution_count": 7,
   "metadata": {},
   "outputs": [
    {
     "name": "stdout",
     "output_type": "stream",
     "text": [
      "0 1 2 3 4 "
     ]
    }
   ],
   "source": [
    "def loop():\n",
    "    for i in range(5):\n",
    "        print(i,end=' ')\n",
    "loop()"
   ]
  },
  {
   "cell_type": "code",
   "execution_count": 9,
   "metadata": {},
   "outputs": [
    {
     "name": "stdout",
     "output_type": "stream",
     "text": [
      "Sum is 5\n"
     ]
    }
   ],
   "source": [
    "def Sum():\n",
    "    x=2\n",
    "    y=3\n",
    "    z=x+y\n",
    "    return (z)\n",
    "\n",
    "sum1=Sum()\n",
    "print('Sum is',sum1)"
   ]
  },
  {
   "cell_type": "code",
   "execution_count": 40,
   "metadata": {},
   "outputs": [
    {
     "name": "stdout",
     "output_type": "stream",
     "text": [
      "Sum is 13\n"
     ]
    }
   ],
   "source": [
    "def Sum(a,b,c):\n",
    "    z=a+b+c\n",
    "    return (z)\n",
    "\n",
    "sum1=Sum(c=5,a=3,b=5)\n",
    "print('Sum is',sum1)"
   ]
  },
  {
   "cell_type": "code",
   "execution_count": 41,
   "metadata": {},
   "outputs": [
    {
     "name": "stdout",
     "output_type": "stream",
     "text": [
      "Hello, Good Evening\n"
     ]
    }
   ],
   "source": [
    "def greet(msg):\n",
    "    print(\"Hello, \"+msg)\n",
    "    \n",
    "greet('Good Evening')"
   ]
  }
 ],
 "metadata": {
  "kernelspec": {
   "display_name": "Python 3",
   "language": "python",
   "name": "python3"
  },
  "language_info": {
   "codemirror_mode": {
    "name": "ipython",
    "version": 3
   },
   "file_extension": ".py",
   "mimetype": "text/x-python",
   "name": "python",
   "nbconvert_exporter": "python",
   "pygments_lexer": "ipython3",
   "version": "3.8.3"
  }
 },
 "nbformat": 4,
 "nbformat_minor": 4
}
