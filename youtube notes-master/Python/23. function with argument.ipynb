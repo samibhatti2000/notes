{
 "cells": [
  {
   "cell_type": "code",
   "execution_count": 2,
   "metadata": {},
   "outputs": [
    {
     "name": "stdout",
     "output_type": "stream",
     "text": [
      "Sum is 5\n"
     ]
    }
   ],
   "source": [
    "def Sum(a,b):\n",
    "    z=a+b\n",
    "    print('Sum is',z)\n",
    "    \n",
    "Sum(2,3)"
   ]
  },
  {
   "cell_type": "code",
   "execution_count": 3,
   "metadata": {},
   "outputs": [
    {
     "name": "stdout",
     "output_type": "stream",
     "text": [
      "Sum is 5\n"
     ]
    }
   ],
   "source": [
    "def Sum(a,b):\n",
    "    z=a+b\n",
    "    return z\n",
    "    \n",
    "sum1=Sum(2,3)\n",
    "print('Sum is',sum1)"
   ]
  },
  {
   "cell_type": "code",
   "execution_count": 5,
   "metadata": {},
   "outputs": [
    {
     "ename": "SyntaxError",
     "evalue": "non-default argument follows default argument (<ipython-input-5-cdc7a78a9478>, line 1)",
     "output_type": "error",
     "traceback": [
      "\u001b[1;36m  File \u001b[1;32m\"<ipython-input-5-cdc7a78a9478>\"\u001b[1;36m, line \u001b[1;32m1\u001b[0m\n\u001b[1;33m    def Sum(a=4,b):\u001b[0m\n\u001b[1;37m            ^\u001b[0m\n\u001b[1;31mSyntaxError\u001b[0m\u001b[1;31m:\u001b[0m non-default argument follows default argument\n"
     ]
    }
   ],
   "source": [
    "def Sum(a=4,b):\n",
    "    z=a+b\n",
    "    return z\n",
    "    \n",
    "sum1=Sum(2)\n",
    "print('Sum is',sum1)"
   ]
  },
  {
   "cell_type": "code",
   "execution_count": 6,
   "metadata": {},
   "outputs": [
    {
     "name": "stdout",
     "output_type": "stream",
     "text": [
      "Sum is 5\n"
     ]
    }
   ],
   "source": [
    "def Sum(a=4,b=3):\n",
    "    z=a+b\n",
    "    return z\n",
    "    \n",
    "sum1=Sum(2)\n",
    "print('Sum is',sum1)"
   ]
  },
  {
   "cell_type": "code",
   "execution_count": 7,
   "metadata": {},
   "outputs": [
    {
     "name": "stdout",
     "output_type": "stream",
     "text": [
      "Sum is 8\n"
     ]
    }
   ],
   "source": [
    "def Sum(a=4,b=3):\n",
    "    z=a+b\n",
    "    return z\n",
    "    \n",
    "sum1=Sum(2,6)\n",
    "print('Sum is',sum1)"
   ]
  },
  {
   "cell_type": "code",
   "execution_count": 8,
   "metadata": {},
   "outputs": [
    {
     "name": "stdout",
     "output_type": "stream",
     "text": [
      "Sum is 8\n"
     ]
    }
   ],
   "source": [
    "def Sum(a=4,b=3):\n",
    "    z=a+b\n",
    "    return z\n",
    "    \n",
    "sum1=Sum(b=2,a=6)\n",
    "print('Sum is',sum1)"
   ]
  },
  {
   "cell_type": "code",
   "execution_count": 10,
   "metadata": {},
   "outputs": [
    {
     "name": "stdout",
     "output_type": "stream",
     "text": [
      "Sum is 18\n"
     ]
    }
   ],
   "source": [
    "def Sum(a=4,b=3,c=4):\n",
    "    z=a+b+c\n",
    "    return z\n",
    "    \n",
    "sum1=Sum(b=2,c=10,a=6)\n",
    "print('Sum is',sum1)"
   ]
  },
  {
   "cell_type": "code",
   "execution_count": 11,
   "metadata": {},
   "outputs": [
    {
     "name": "stdout",
     "output_type": "stream",
     "text": [
      "Hello,Good Morning\n"
     ]
    }
   ],
   "source": [
    "def greet(msg):\n",
    "    print('Hello,'+msg)\n",
    "    \n",
    "greet('Good Morning')"
   ]
  },
  {
   "cell_type": "code",
   "execution_count": 13,
   "metadata": {},
   "outputs": [
    {
     "name": "stdout",
     "output_type": "stream",
     "text": [
      "Hello Sanjeet Good morning\n"
     ]
    }
   ],
   "source": [
    "def greet(name,msg='Good morning'):\n",
    "    print(name+msg)\n",
    "    \n",
    "greet('Hello Sanjeet ')"
   ]
  },
  {
   "cell_type": "code",
   "execution_count": 17,
   "metadata": {},
   "outputs": [],
   "source": [
    "def greet():\n",
    "      pass \n",
    "greet()"
   ]
  }
 ],
 "metadata": {
  "kernelspec": {
   "display_name": "Python 3",
   "language": "python",
   "name": "python3"
  },
  "language_info": {
   "codemirror_mode": {
    "name": "ipython",
    "version": 3
   },
   "file_extension": ".py",
   "mimetype": "text/x-python",
   "name": "python",
   "nbconvert_exporter": "python",
   "pygments_lexer": "ipython3",
   "version": "3.8.3"
  }
 },
 "nbformat": 4,
 "nbformat_minor": 4
}
