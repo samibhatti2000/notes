{
 "cells": [
  {
   "cell_type": "code",
   "execution_count": 4,
   "metadata": {},
   "outputs": [
    {
     "name": "stdout",
     "output_type": "stream",
     "text": [
      "2\n",
      "Rohan\n",
      "1\n",
      "Sanjeet\n"
     ]
    }
   ],
   "source": [
    "class Students:\n",
    "    id=1\n",
    "    name='Sanjeet'\n",
    "s1=Students()\n",
    "s2=Students()\n",
    "s1.id=2\n",
    "s1.name=\"Rohan\"\n",
    "print(s1.id)\n",
    "print(s1.name)\n",
    "print(s2.id)\n",
    "print(s2.name)"
   ]
  }
 ],
 "metadata": {
  "kernelspec": {
   "display_name": "Python 3",
   "language": "python",
   "name": "python3"
  },
  "language_info": {
   "codemirror_mode": {
    "name": "ipython",
    "version": 3
   },
   "file_extension": ".py",
   "mimetype": "text/x-python",
   "name": "python",
   "nbconvert_exporter": "python",
   "pygments_lexer": "ipython3",
   "version": "3.8.3"
  }
 },
 "nbformat": 4,
 "nbformat_minor": 4
}
