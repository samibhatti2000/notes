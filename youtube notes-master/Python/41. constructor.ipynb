{
 "cells": [
  {
   "cell_type": "code",
   "execution_count": 3,
   "metadata": {},
   "outputs": [
    {
     "name": "stdout",
     "output_type": "stream",
     "text": [
      "Hello India\n"
     ]
    }
   ],
   "source": [
    "class Students:\n",
    "    def __init__(self):\n",
    "        print('Hello World')\n",
    "        \n",
    "    def __init__(self):\n",
    "        print('Hello India')\n",
    "\n",
    "s1=Students()"
   ]
  },
  {
   "cell_type": "code",
   "execution_count": 11,
   "metadata": {},
   "outputs": [
    {
     "name": "stdout",
     "output_type": "stream",
     "text": [
      "Id is : 1 Name is : Sanjeet\n"
     ]
    }
   ],
   "source": [
    "class Students:\n",
    "    def __init__(self,id,name):\n",
    "        self.id=id\n",
    "        self.name=name\n",
    "        \n",
    "    def display(self):\n",
    "        print('Id is :',self.id,end=' ')\n",
    "        print('Name is :',self.name)\n",
    "       \n",
    "s1=Students(1,'Sanjeet')\n",
    "s1.display()"
   ]
  },
  {
   "cell_type": "code",
   "execution_count": 12,
   "metadata": {},
   "outputs": [
    {
     "name": "stdout",
     "output_type": "stream",
     "text": [
      "Sum is  30\n"
     ]
    }
   ],
   "source": [
    "class Sum:\n",
    "    def __init__(self,a,b):\n",
    "        self.x=a\n",
    "        self.y=b\n",
    "        \n",
    "    def calculate(self):\n",
    "        print('Sum is ',self.x+self.y)\n",
    "        \n",
    "sum=Sum(10,20)\n",
    "sum.calculate()"
   ]
  },
  {
   "cell_type": "code",
   "execution_count": 13,
   "metadata": {},
   "outputs": [
    {
     "name": "stdout",
     "output_type": "stream",
     "text": [
      "Sum is  30\n"
     ]
    }
   ],
   "source": [
    "class Sum:\n",
    "    def __init__(self,a,b):\n",
    "        self.x=a\n",
    "        self.y=b\n",
    "        \n",
    "    def calculate(self):\n",
    "        return self.x+self.y\n",
    "        \n",
    "sum=Sum(10,20)\n",
    "add=sum.calculate()\n",
    "print('Sum is ',add)"
   ]
  }
 ],
 "metadata": {
  "kernelspec": {
   "display_name": "Python 3",
   "language": "python",
   "name": "python3"
  },
  "language_info": {
   "codemirror_mode": {
    "name": "ipython",
    "version": 3
   },
   "file_extension": ".py",
   "mimetype": "text/x-python",
   "name": "python",
   "nbconvert_exporter": "python",
   "pygments_lexer": "ipython3",
   "version": "3.8.3"
  }
 },
 "nbformat": 4,
 "nbformat_minor": 4
}
