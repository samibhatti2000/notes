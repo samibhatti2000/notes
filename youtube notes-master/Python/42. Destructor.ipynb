{
 "cells": [
  {
   "cell_type": "code",
   "execution_count": 1,
   "metadata": {},
   "outputs": [
    {
     "name": "stdout",
     "output_type": "stream",
     "text": [
      "Reading\n",
      "Destructor is invoked\n"
     ]
    }
   ],
   "source": [
    "class Students:\n",
    "    def __init__(self):\n",
    "        print('Reading')\n",
    "        \n",
    "    def __del__(self):\n",
    "        print('Destructor is invoked')\n",
    "        \n",
    "s1=Students()\n",
    "del s1"
   ]
  }
 ],
 "metadata": {
  "kernelspec": {
   "display_name": "Python 3",
   "language": "python",
   "name": "python3"
  },
  "language_info": {
   "codemirror_mode": {
    "name": "ipython",
    "version": 3
   },
   "file_extension": ".py",
   "mimetype": "text/x-python",
   "name": "python",
   "nbconvert_exporter": "python",
   "pygments_lexer": "ipython3",
   "version": "3.8.3"
  }
 },
 "nbformat": 4,
 "nbformat_minor": 4
}
