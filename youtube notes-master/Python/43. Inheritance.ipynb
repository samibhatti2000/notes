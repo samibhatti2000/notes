{
 "cells": [
  {
   "cell_type": "code",
   "execution_count": 4,
   "metadata": {},
   "outputs": [
    {
     "name": "stdout",
     "output_type": "stream",
     "text": [
      "Walking\n",
      "Playing\n"
     ]
    }
   ],
   "source": [
    "class Father:\n",
    "    def walk(self):\n",
    "        print('Walking')\n",
    "        \n",
    "class Child(Father):\n",
    "    def play(self):\n",
    "        print('Playing')\n",
    "        \n",
    "c1=Child()\n",
    "c1.walk()\n",
    "c1.play()"
   ]
  },
  {
   "cell_type": "code",
   "execution_count": 10,
   "metadata": {},
   "outputs": [
    {
     "name": "stdout",
     "output_type": "stream",
     "text": [
      "Sum is 30\n",
      "Sub is 20\n",
      "Mul is 300\n",
      "Div is 3.0\n"
     ]
    }
   ],
   "source": [
    "class Calculator:\n",
    "    def sum(self,a,b):\n",
    "        return a+b\n",
    "        \n",
    "    def mul(self,a,b):\n",
    "        print('Mul is',a*b)\n",
    "        \n",
    "    def div(self,a,b):\n",
    "        print('Div is',a/b)\n",
    "        \n",
    "class Subtraction(Calculator):\n",
    "    def sub(self,a,b):\n",
    "        print('Sub is',a-b)\n",
    "        \n",
    "s1=Subtraction()    \n",
    "print('Sum is',s1.sum(20,10))\n",
    "s1.sub(30,10)\n",
    "s1.mul(30,10)\n",
    "s1.div(30,10)"
   ]
  }
 ],
 "metadata": {
  "kernelspec": {
   "display_name": "Python 3",
   "language": "python",
   "name": "python3"
  },
  "language_info": {
   "codemirror_mode": {
    "name": "ipython",
    "version": 3
   },
   "file_extension": ".py",
   "mimetype": "text/x-python",
   "name": "python",
   "nbconvert_exporter": "python",
   "pygments_lexer": "ipython3",
   "version": "3.8.3"
  }
 },
 "nbformat": 4,
 "nbformat_minor": 4
}
