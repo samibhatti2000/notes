{
 "cells": [
  {
   "cell_type": "code",
   "execution_count": 1,
   "metadata": {},
   "outputs": [
    {
     "name": "stdout",
     "output_type": "stream",
     "text": [
      "Walking by Child\n"
     ]
    }
   ],
   "source": [
    "class Father:\n",
    "    def walk(self):\n",
    "        print('Walking by father')\n",
    "        \n",
    "class Child(Father):\n",
    "    def walk(self):\n",
    "        print('Walking by Child')\n",
    "        \n",
    "c1=Child()\n",
    "c1.walk()"
   ]
  },
  {
   "cell_type": "code",
   "execution_count": 2,
   "metadata": {},
   "outputs": [
    {
     "name": "stdout",
     "output_type": "stream",
     "text": [
      "Walking by father\n"
     ]
    }
   ],
   "source": [
    "class Father:\n",
    "    def walk(self):\n",
    "        print('Walking by father')\n",
    "        \n",
    "class Child(Father):\n",
    "    def play(self):\n",
    "        print('Playing by Child')\n",
    "        \n",
    "        \n",
    "c1=Child()\n",
    "c1.walk()"
   ]
  }
 ],
 "metadata": {
  "kernelspec": {
   "display_name": "Python 3",
   "language": "python",
   "name": "python3"
  },
  "language_info": {
   "codemirror_mode": {
    "name": "ipython",
    "version": 3
   },
   "file_extension": ".py",
   "mimetype": "text/x-python",
   "name": "python",
   "nbconvert_exporter": "python",
   "pygments_lexer": "ipython3",
   "version": "3.8.3"
  }
 },
 "nbformat": 4,
 "nbformat_minor": 4
}
