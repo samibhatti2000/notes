{
 "cells": [
  {
   "cell_type": "code",
   "execution_count": 3,
   "metadata": {},
   "outputs": [
    {
     "name": "stdout",
     "output_type": "stream",
     "text": [
      "Price is 500000\n",
      "Price is 1000000\n"
     ]
    }
   ],
   "source": [
    "class Car:\n",
    "    def __init__(self):\n",
    "        self.__price=500000\n",
    "        \n",
    "    def priceDisplay(self):\n",
    "        print('Price is',self.__price)\n",
    "        \n",
    "    def changePrice(self,price):\n",
    "        self.__price=price\n",
    "        \n",
    "c=Car()\n",
    "c.priceDisplay()\n",
    "c.changePrice(1000000)\n",
    "c.priceDisplay()"
   ]
  },
  {
   "cell_type": "code",
   "execution_count": 8,
   "metadata": {},
   "outputs": [
    {
     "name": "stdout",
     "output_type": "stream",
     "text": [
      "Price is 500000\n",
      "Model is 2015\n",
      "Price is 1000000\n",
      "Model is 2020\n"
     ]
    }
   ],
   "source": [
    "class Car:\n",
    "    def __init__(self):\n",
    "        self.__price=500000\n",
    "        self.__model=2015\n",
    "        \n",
    "    def priceDisplay(self):\n",
    "        print('Price is',self.__price)\n",
    "        print('Model is',self.__model)\n",
    "\n",
    "        \n",
    "    def changePrice(self,price,model):\n",
    "        self.__price=price\n",
    "        self.__model=model\n",
    "        \n",
    "c=Car()\n",
    "c.priceDisplay()\n",
    "c.changePrice(1000000,2020)\n",
    "c.priceDisplay()"
   ]
  },
  {
   "cell_type": "code",
   "execution_count": 9,
   "metadata": {},
   "outputs": [
    {
     "name": "stdout",
     "output_type": "stream",
     "text": [
      "Price is 500000\n",
      "Model is 2015\n",
      "Price is 1000000\n",
      "Model is 2020\n"
     ]
    }
   ],
   "source": [
    "class Car:\n",
    "    def __init__(self):\n",
    "        self.__price=500000\n",
    "        self.__model=2015\n",
    "        \n",
    "    def __priceDisplay(self):\n",
    "        print('Price is',self.__price)\n",
    "        print('Model is',self.__model)\n",
    "\n",
    "        \n",
    "    def changePrice(self,price,model):\n",
    "        self.__price=price\n",
    "        self.__model=model\n",
    "        \n",
    "    def finalDisplay(self):\n",
    "        self.__priceDisplay()\n",
    "        \n",
    "c=Car()\n",
    "c.finalDisplay()\n",
    "c.changePrice(1000000,2020)\n",
    "c.finalDisplay()"
   ]
  }
 ],
 "metadata": {
  "kernelspec": {
   "display_name": "Python 3",
   "language": "python",
   "name": "python3"
  },
  "language_info": {
   "codemirror_mode": {
    "name": "ipython",
    "version": 3
   },
   "file_extension": ".py",
   "mimetype": "text/x-python",
   "name": "python",
   "nbconvert_exporter": "python",
   "pygments_lexer": "ipython3",
   "version": "3.8.3"
  }
 },
 "nbformat": 4,
 "nbformat_minor": 4
}
