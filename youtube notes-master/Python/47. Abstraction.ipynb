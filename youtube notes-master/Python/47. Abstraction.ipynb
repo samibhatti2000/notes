{
 "cells": [
  {
   "cell_type": "code",
   "execution_count": 1,
   "metadata": {},
   "outputs": [
    {
     "name": "stdout",
     "output_type": "stream",
     "text": [
      "Walking\n"
     ]
    }
   ],
   "source": [
    "from abc import ABC,abstractmethod\n",
    "\n",
    "class Parent(ABC):\n",
    "    @abstractmethod\n",
    "    def walk(self):\n",
    "        pass\n",
    "    \n",
    "class Child(Parent):\n",
    "    def walk(self):\n",
    "        print('Walking') \n",
    "        \n",
    "c=Child()\n",
    "c.walk()"
   ]
  },
  {
   "cell_type": "code",
   "execution_count": 2,
   "metadata": {},
   "outputs": [
    {
     "name": "stdout",
     "output_type": "stream",
     "text": [
      "Walking\n",
      "Playing\n"
     ]
    }
   ],
   "source": [
    "from abc import ABC,abstractmethod\n",
    "\n",
    "class Parent(ABC):\n",
    "    @abstractmethod\n",
    "    def walk(self):\n",
    "        pass\n",
    "    \n",
    "class Child1(Parent):\n",
    "    def walk(self):\n",
    "        print('Walking') \n",
    "        \n",
    "class Child2(Parent):\n",
    "    def walk(self):\n",
    "        print('Playing') \n",
    "        \n",
    "c1=Child1()\n",
    "c1.walk()\n",
    "c2=Child2()\n",
    "c2.walk()"
   ]
  },
  {
   "cell_type": "code",
   "execution_count": 4,
   "metadata": {},
   "outputs": [
    {
     "name": "stdout",
     "output_type": "stream",
     "text": [
      "Walking\n",
      "Playing\n"
     ]
    }
   ],
   "source": [
    "import abc\n",
    "\n",
    "class Parent(abc.ABC):\n",
    "    @abc.abstractmethod\n",
    "    def walk(self):\n",
    "        methodpass\n",
    "    \n",
    "class Child1(Parent):\n",
    "    def walk(self):\n",
    "        print('Walking') \n",
    "        \n",
    "class Child2(Parent):\n",
    "    def walk(self):\n",
    "        print('Playing') \n",
    "        \n",
    "c1=Child1()\n",
    "c1.walk()\n",
    "c2=Child2()\n",
    "c2.walk()"
   ]
  },
  {
   "cell_type": "code",
   "execution_count": 5,
   "metadata": {},
   "outputs": [
    {
     "name": "stdout",
     "output_type": "stream",
     "text": [
      "area is 200\n"
     ]
    }
   ],
   "source": [
    "import abc\n",
    "\n",
    "class Parent(abc.ABC):\n",
    "    @abc.abstractmethod\n",
    "    def area(self):\n",
    "        methodpass\n",
    "    \n",
    "class Rectangle(Parent):\n",
    "    def __init__(self,l,b):\n",
    "        self.l=l\n",
    "        self.b=b\n",
    "        \n",
    "    def area(self):\n",
    "        print('area is',self.l*self.b)\n",
    "\n",
    "        \n",
    "R=Rectangle(10,20)\n",
    "R.area()"
   ]
  }
 ],
 "metadata": {
  "kernelspec": {
   "display_name": "Python 3",
   "language": "python",
   "name": "python3"
  },
  "language_info": {
   "codemirror_mode": {
    "name": "ipython",
    "version": 3
   },
   "file_extension": ".py",
   "mimetype": "text/x-python",
   "name": "python",
   "nbconvert_exporter": "python",
   "pygments_lexer": "ipython3",
   "version": "3.8.3"
  }
 },
 "nbformat": 4,
 "nbformat_minor": 4
}
