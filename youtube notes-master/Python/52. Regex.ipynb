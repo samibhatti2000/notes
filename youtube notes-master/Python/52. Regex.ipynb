{
 "cells": [
  {
   "cell_type": "code",
   "execution_count": 4,
   "metadata": {},
   "outputs": [
    {
     "name": "stdout",
     "output_type": "stream",
     "text": [
      "<re.Match object; span=(20, 22), match='ia'>\n",
      "Yes , perfect match\n"
     ]
    }
   ],
   "source": [
    "import re\n",
    "x=\"ipl is played in india\"\n",
    "y=re.search('ia$',x)\n",
    "print(y)\n",
    "if y:\n",
    "    print('Yes , perfect match')\n",
    "else:\n",
    "    print('No match')"
   ]
  },
  {
   "cell_type": "code",
   "execution_count": 6,
   "metadata": {},
   "outputs": [
    {
     "name": "stdout",
     "output_type": "stream",
     "text": [
      "[]\n",
      "No match\n"
     ]
    }
   ],
   "source": [
    "import re\n",
    "x=\"ipl is played in india\"\n",
    "y=re.findall('ian$',x)\n",
    "\n",
    "print(y)\n",
    "if y:\n",
    "    print('Yes , perfect match')\n",
    "else:\n",
    "    print('No match')"
   ]
  },
  {
   "cell_type": "code",
   "execution_count": 12,
   "metadata": {},
   "outputs": [
    {
     "name": "stdout",
     "output_type": "stream",
     "text": [
      "['i', 'p', 'l', 'i', 's', 'p', 'l', 'a', 'y', 'e', 'd', 'i', 'n', 'I', 'n', 'd', 'i', 'a', '1', '2', '3']\n",
      "Yes , perfect match\n"
     ]
    }
   ],
   "source": [
    "import re\n",
    "x=\"ipl is played in India 123\"\n",
    "y=re.findall('[a-z,1-9,A-Z]',x)\n",
    "\n",
    "print(y)\n",
    "if y:\n",
    "    print('Yes , perfect match')\n",
    "else:\n",
    "    print('No match')"
   ]
  },
  {
   "cell_type": "code",
   "execution_count": 16,
   "metadata": {},
   "outputs": [
    {
     "name": "stdout",
     "output_type": "stream",
     "text": [
      "['played']\n",
      "Yes , perfect match\n"
     ]
    }
   ],
   "source": [
    "import re\n",
    "x=\"ipl is played in india\"\n",
    "y=re.findall('p....d',x)\n",
    "\n",
    "print(y)\n",
    "if y:\n",
    "    print('Yes , perfect match')\n",
    "else:\n",
    "    print('No match')"
   ]
  },
  {
   "cell_type": "code",
   "execution_count": 18,
   "metadata": {},
   "outputs": [
    {
     "name": "stdout",
     "output_type": "stream",
     "text": [
      "['in', 'in', 'in', 'in']\n",
      "Yes , perfect match\n"
     ]
    }
   ],
   "source": [
    "import re\n",
    "x=\"ipl is played in india not always in india\"\n",
    "y=re.findall('in+',x)\n",
    "\n",
    "print(y)\n",
    "if y:\n",
    "    print('Yes , perfect match')\n",
    "else:\n",
    "    print('No match')"
   ]
  },
  {
   "cell_type": "code",
   "execution_count": 19,
   "metadata": {},
   "outputs": [
    {
     "name": "stdout",
     "output_type": "stream",
     "text": [
      "['i', 'i', 'in', 'in', 'i', 'in', 'in', 'i']\n",
      "Yes , perfect match\n"
     ]
    }
   ],
   "source": [
    "import re\n",
    "x=\"ipl is played in india not always in india\"\n",
    "y=re.findall('in*',x)\n",
    "\n",
    "print(y)\n",
    "if y:\n",
    "    print('Yes , perfect match')\n",
    "else:\n",
    "    print('No match')"
   ]
  },
  {
   "cell_type": "code",
   "execution_count": 21,
   "metadata": {},
   "outputs": [
    {
     "name": "stdout",
     "output_type": "stream",
     "text": [
      "['in', 'in', 'in', 'in']\n",
      "Yes , perfect match\n"
     ]
    }
   ],
   "source": [
    "import re\n",
    "x=\"ipl is played inn inndia not always in india\"\n",
    "y=re.findall('in{1}',x)\n",
    "\n",
    "print(y)\n",
    "if y:\n",
    "    print('Yes , perfect match')\n",
    "else:\n",
    "    print('No match')"
   ]
  },
  {
   "cell_type": "code",
   "execution_count": 23,
   "metadata": {},
   "outputs": [
    {
     "name": "stdout",
     "output_type": "stream",
     "text": [
      "['india']\n",
      "Yes , perfect match\n"
     ]
    }
   ],
   "source": [
    "import re\n",
    "x=\"ipl is played inn inndia not always in india\"\n",
    "y=re.findall('playing|india',x)\n",
    "\n",
    "print(y)\n",
    "if y:\n",
    "    print('Yes , perfect match')\n",
    "else:\n",
    "    print('No match')"
   ]
  },
  {
   "cell_type": "code",
   "execution_count": 25,
   "metadata": {},
   "outputs": [
    {
     "name": "stdout",
     "output_type": "stream",
     "text": [
      "['ipl', 'is', 'played', 'inn', 'inndia', 'not', 'always', 'in', 'india']\n",
      "Yes , perfect match\n"
     ]
    }
   ],
   "source": [
    "import re\n",
    "x=\"ipl is played inn inndia not always in india\"\n",
    "y=re.split('\\s',x)\n",
    "\n",
    "print(y)\n",
    "if y:\n",
    "    print('Yes , perfect match')\n",
    "else:\n",
    "    print('No match')"
   ]
  },
  {
   "cell_type": "code",
   "execution_count": 26,
   "metadata": {},
   "outputs": [
    {
     "name": "stdout",
     "output_type": "stream",
     "text": [
      "['', '', '', ' ', '', ' ', '', '', '', '', '', ' ', '', '', ' ', '', '', '', '', '', ' ', '', '', ' ', '', '', '', '', '', ' ', '', ' ', '', '', '', '', '']\n",
      "Yes , perfect match\n"
     ]
    }
   ],
   "source": [
    "import re\n",
    "x=\"ipl is played inn inndia not always in india\"\n",
    "y=re.split('\\S',x)\n",
    "\n",
    "print(y)\n",
    "if y:\n",
    "    print('Yes , perfect match')\n",
    "else:\n",
    "    print('No match')"
   ]
  },
  {
   "cell_type": "code",
   "execution_count": 28,
   "metadata": {},
   "outputs": [
    {
     "name": "stdout",
     "output_type": "stream",
     "text": [
      "['', '', '', '', '', '', '', '', '', '', '', '', '', '', '', '', '', '', '', '', '', '', '', '', '', '', '', '', '', '', '', '', '', '', '', '', '', '', '', '', '', '', '', '', '', '234']\n",
      "Yes , perfect match\n"
     ]
    }
   ],
   "source": [
    "import re\n",
    "x=\"ipl is played inn inndia not always in india 234\"\n",
    "y=re.split('\\D',x)\n",
    "\n",
    "print(y)\n",
    "if y:\n",
    "    print('Yes , perfect match')\n",
    "else:\n",
    "    print('No match')"
   ]
  },
  {
   "cell_type": "code",
   "execution_count": 29,
   "metadata": {},
   "outputs": [
    {
     "name": "stdout",
     "output_type": "stream",
     "text": [
      "ipl@is@played@inn@inndia@not@always@in@india@234\n",
      "Yes , perfect match\n"
     ]
    }
   ],
   "source": [
    "import re\n",
    "x=\"ipl is played inn inndia not always in india 234\"\n",
    "y=re.sub('\\s',\"@\",x)\n",
    "\n",
    "print(y)\n",
    "if y:\n",
    "    print('Yes , perfect match')\n",
    "else:\n",
    "    print('No match')"
   ]
  }
 ],
 "metadata": {
  "kernelspec": {
   "display_name": "Python 3",
   "language": "python",
   "name": "python3"
  },
  "language_info": {
   "codemirror_mode": {
    "name": "ipython",
    "version": 3
   },
   "file_extension": ".py",
   "mimetype": "text/x-python",
   "name": "python",
   "nbconvert_exporter": "python",
   "pygments_lexer": "ipython3",
   "version": "3.8.3"
  }
 },
 "nbformat": 4,
 "nbformat_minor": 4
}
