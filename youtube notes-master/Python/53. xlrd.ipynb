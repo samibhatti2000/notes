{
 "cells": [
  {
   "cell_type": "code",
   "execution_count": 4,
   "metadata": {},
   "outputs": [
    {
     "name": "stdout",
     "output_type": "stream",
     "text": [
      "['Sno', 'Name', 'Email', 'Phone', 'City']\n"
     ]
    }
   ],
   "source": [
    "import xlrd\n",
    "loc=\"C:\\\\Users\\\\sanje\\\\Desktop\\\\Python\\\\Book1.xlsx\"\n",
    "wb=xlrd.open_workbook(loc)\n",
    "sheet=wb.sheet_by_index(0)\n",
    "print(sheet.row_values(0))"
   ]
  },
  {
   "cell_type": "code",
   "execution_count": 5,
   "metadata": {},
   "outputs": [
    {
     "name": "stdout",
     "output_type": "stream",
     "text": [
      "6\n"
     ]
    }
   ],
   "source": [
    "import xlrd\n",
    "loc=\"C:\\\\Users\\\\sanje\\\\Desktop\\\\Python\\\\Book1.xlsx\"\n",
    "wb=xlrd.open_workbook(loc)\n",
    "sheet=wb.sheet_by_index(0)\n",
    "print(sheet.nrows)"
   ]
  },
  {
   "cell_type": "code",
   "execution_count": 6,
   "metadata": {},
   "outputs": [
    {
     "name": "stdout",
     "output_type": "stream",
     "text": [
      "5\n"
     ]
    }
   ],
   "source": [
    "import xlrd\n",
    "loc=\"C:\\\\Users\\\\sanje\\\\Desktop\\\\Python\\\\Book1.xlsx\"\n",
    "wb=xlrd.open_workbook(loc)\n",
    "sheet=wb.sheet_by_index(0)\n",
    "print(sheet.ncols)"
   ]
  },
  {
   "cell_type": "code",
   "execution_count": 14,
   "metadata": {},
   "outputs": [
    {
     "name": "stdout",
     "output_type": "stream",
     "text": [
      "Sandhya\n"
     ]
    }
   ],
   "source": [
    "import xlrd\n",
    "loc=\"C:\\\\Users\\\\sanje\\\\Desktop\\\\Python\\\\Book1.xlsx\"\n",
    "wb=xlrd.open_workbook(loc)\n",
    "sheet=wb.sheet_by_index(0)\n",
    "print(sheet.cell_value(4,1))"
   ]
  },
  {
   "cell_type": "code",
   "execution_count": 15,
   "metadata": {},
   "outputs": [
    {
     "data": {
      "text/plain": [
       "['Sheet1', 'Sheet2', 'Sheet3']"
      ]
     },
     "execution_count": 15,
     "metadata": {},
     "output_type": "execute_result"
    }
   ],
   "source": [
    "import xlrd\n",
    "loc=\"C:\\\\Users\\\\sanje\\\\Desktop\\\\Python\\\\Book1.xlsx\"\n",
    "wb=xlrd.open_workbook(loc)\n",
    "wb.sheet_names()\n"
   ]
  },
  {
   "cell_type": "code",
   "execution_count": 18,
   "metadata": {},
   "outputs": [
    {
     "name": "stdout",
     "output_type": "stream",
     "text": [
      "Sno\n",
      "Name\n",
      "Email\n",
      "Phone\n",
      "City\n"
     ]
    }
   ],
   "source": [
    "import xlrd\n",
    "loc=\"C:\\\\Users\\\\sanje\\\\Desktop\\\\Python\\\\Book1.xlsx\"\n",
    "wb=xlrd.open_workbook(loc)\n",
    "sheet=wb.sheet_by_index(0)\n",
    "for i in range(sheet.ncols):\n",
    "    print(sheet.cell_value(0,i))"
   ]
  },
  {
   "cell_type": "code",
   "execution_count": 20,
   "metadata": {},
   "outputs": [
    {
     "name": "stdout",
     "output_type": "stream",
     "text": [
      "Sno Name Email Phone City \n",
      "\n",
      "1.0 Sanjeet sanjeet@gmail.com 9877656543.0 Delhi \n",
      "\n",
      "2.0 Manjeet manjeet@gmail.com 9877098765.0 Mumbai \n",
      "\n",
      "3.0 Ranjeet ranjeet@gmail.com 9877325678.0 Kolkata \n",
      "\n",
      "4.0 Sandhya sandhya@gmail.com 9877653544.0 Rajasthan \n",
      "\n",
      "5.0 Sanju sanju@gmail.com 8877653544.0 Mumbai \n",
      "\n"
     ]
    }
   ],
   "source": [
    "import xlrd\n",
    "loc=\"C:\\\\Users\\\\sanje\\\\Desktop\\\\Python\\\\Book1.xlsx\"\n",
    "wb=xlrd.open_workbook(loc)\n",
    "sheet=wb.sheet_by_index(0)\n",
    "for i in range(sheet.nrows):\n",
    "    for j in range(sheet.ncols):\n",
    "        print(sheet.cell_value(i,j),end=' ')\n",
    "        \n",
    "    print('\\n')"
   ]
  },
  {
   "cell_type": "code",
   "execution_count": 21,
   "metadata": {},
   "outputs": [
    {
     "name": "stdout",
     "output_type": "stream",
     "text": [
      "Sno Name Email Phone City \n",
      "\n",
      "1.0 Rajan sanjeet@gmail.com 9877656543.0 Delhi \n",
      "\n",
      "2.0 Manjeet manjeet@gmail.com 9877098765.0 Mumbai \n",
      "\n",
      "3.0 Ranjeet ranjeet@gmail.com 9877325678.0 Kolkata \n",
      "\n",
      "4.0 Sandhya sandhya@gmail.com 9877653544.0 Rajasthan \n",
      "\n",
      "5.0 Sanju sanju@gmail.com 8877653544.0 Mumbai \n",
      "\n"
     ]
    }
   ],
   "source": [
    "import xlrd\n",
    "loc=\"C:\\\\Users\\\\sanje\\\\Desktop\\\\Python\\\\Book1.xlsx\"\n",
    "wb=xlrd.open_workbook(loc)\n",
    "sheet=wb.sheet_by_index(1)\n",
    "for i in range(sheet.nrows):\n",
    "    for j in range(sheet.ncols):\n",
    "        print(sheet.cell_value(i,j),end=' ')\n",
    "        \n",
    "    print('\\n')"
   ]
  },
  {
   "cell_type": "raw",
   "metadata": {},
   "source": []
  }
 ],
 "metadata": {
  "kernelspec": {
   "display_name": "Python 3",
   "language": "python",
   "name": "python3"
  },
  "language_info": {
   "codemirror_mode": {
    "name": "ipython",
    "version": 3
   },
   "file_extension": ".py",
   "mimetype": "text/x-python",
   "name": "python",
   "nbconvert_exporter": "python",
   "pygments_lexer": "ipython3",
   "version": "3.8.3"
  }
 },
 "nbformat": 4,
 "nbformat_minor": 4
}
