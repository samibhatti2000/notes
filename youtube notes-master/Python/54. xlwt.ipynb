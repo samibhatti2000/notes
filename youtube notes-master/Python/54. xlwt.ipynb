{
 "cells": [
  {
   "cell_type": "code",
   "execution_count": 1,
   "metadata": {},
   "outputs": [],
   "source": [
    "import xlwt\n",
    "# from xlwt import Workbook\n",
    "wb=xlwt.Workbook()\n",
    "sheet=wb.add_sheet(\"Sheet1\")\n",
    "sheet.write(0,0,\"Sno\")\n",
    "wb.save(\"sample.xls\")"
   ]
  },
  {
   "cell_type": "code",
   "execution_count": 3,
   "metadata": {},
   "outputs": [],
   "source": [
    "import xlwt\n",
    "# from xlwt import Workbook\n",
    "wb=xlwt.Workbook()\n",
    "sheet=wb.add_sheet(\"Sheet1\")\n",
    "sheet.write(0,0,\"Sno\")\n",
    "sheet.write(0,1,\"Name\")\n",
    "sheet.write(0,2,\"Email\")\n",
    "sheet.write(0,3,\"Phone\")\n",
    "sheet.write(0,4,\"City\")\n",
    "sheet.write(1,0,\"1\")\n",
    "sheet.write(1,1,\"Sanjeet\")\n",
    "sheet.write(1,2,\"sanjeet@gmail.com\")\n",
    "sheet.write(1,3,\"9877181075\")\n",
    "sheet.write(1,4,\"Delhi\")\n",
    "wb.save(\"sample.xls\")"
   ]
  },
  {
   "cell_type": "code",
   "execution_count": 5,
   "metadata": {},
   "outputs": [],
   "source": [
    "import xlwt\n",
    "wb=xlwt.Workbook()\n",
    "sheet=wb.add_sheet(\"Sheet1\")\n",
    "style=xlwt.easyxf('font:bold 1,color red')\n",
    "sheet.write(0,0,\"name\",style)\n",
    "wb.save(\"data.xls\")"
   ]
  },
  {
   "cell_type": "code",
   "execution_count": 6,
   "metadata": {},
   "outputs": [],
   "source": [
    "import xlwt\n",
    "wb=xlwt.Workbook()\n",
    "sheet=wb.add_sheet(\"Sheet1\")\n",
    "style=xlwt.easyxf('font:bold 1,color red')\n",
    "row=0\n",
    "col=0\n",
    "list1=[\"sno\",\"name\",\"email\",\"phone\",\"city\"]\n",
    "for item in list1:\n",
    "    sheet.write(row,col,item)\n",
    "    col=col+1\n",
    "wb.save(\"sample1.xls\")"
   ]
  }
 ],
 "metadata": {
  "kernelspec": {
   "display_name": "Python 3",
   "language": "python",
   "name": "python3"
  },
  "language_info": {
   "codemirror_mode": {
    "name": "ipython",
    "version": 3
   },
   "file_extension": ".py",
   "mimetype": "text/x-python",
   "name": "python",
   "nbconvert_exporter": "python",
   "pygments_lexer": "ipython3",
   "version": "3.8.3"
  }
 },
 "nbformat": 4,
 "nbformat_minor": 4
}
