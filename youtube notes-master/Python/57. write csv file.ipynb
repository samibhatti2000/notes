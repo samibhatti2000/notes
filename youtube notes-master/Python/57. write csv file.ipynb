{
 "cells": [
  {
   "cell_type": "code",
   "execution_count": 3,
   "metadata": {},
   "outputs": [],
   "source": [
    "import csv\n",
    "with open('student.csv','w') as file:\n",
    "    writer=csv.writer(file)\n",
    "    writer.writerow(['sno','name','email','phone'])"
   ]
  },
  {
   "cell_type": "code",
   "execution_count": 4,
   "metadata": {},
   "outputs": [],
   "source": [
    "import csv\n",
    "column=['sno','name','email','phone']\n",
    "with open('student.csv','w') as file:\n",
    "    writer=csv.writer(file)\n",
    "    writer.writerow(column)"
   ]
  },
  {
   "cell_type": "code",
   "execution_count": 7,
   "metadata": {},
   "outputs": [],
   "source": [
    "import csv\n",
    "column=['sno','name','email','phone']\n",
    "with open('student.csv','w',newline='') as file:\n",
    "    writer=csv.writer(file,delimiter=':')\n",
    "    writer.writerow(column)\n",
    "    writer.writerow(['1','sanjeet','sanjeet@gmail.com','9877181076'])\n",
    "    writer.writerow(['2','manjeet','manjeet@gmail.com','9877181077'])\n",
    "    writer.writerow(['3','ranjeet','ranjeet@gmail.com','9877181078'])\n",
    "    "
   ]
  },
  {
   "cell_type": "code",
   "execution_count": 9,
   "metadata": {},
   "outputs": [],
   "source": [
    "import csv\n",
    "column=['sno','name','email','phone']\n",
    "student=[\n",
    "{'sno':'1','name':'sanjeet','email':'sanjeet@gmail.com','phone':'9877181076'},\n",
    "{'sno':'1','name':'sanjeet','email':'manjeet@gmail.com','phone':'9877181076'},\n",
    "{'sno':'1','name':'sanjeet','email':'ranjeet@gmail.com','phone':'9877181076'}\n",
    "]\n",
    "with open('student.csv','w',newline='') as file:\n",
    "    writer=csv.DictWriter(file,fieldnames=column)\n",
    "    writer.writeheader()\n",
    "    writer.writerows(student)\n"
   ]
  }
 ],
 "metadata": {
  "kernelspec": {
   "display_name": "Python 3",
   "language": "python",
   "name": "python3"
  },
  "language_info": {
   "codemirror_mode": {
    "name": "ipython",
    "version": 3
   },
   "file_extension": ".py",
   "mimetype": "text/x-python",
   "name": "python",
   "nbconvert_exporter": "python",
   "pygments_lexer": "ipython3",
   "version": "3.8.3"
  }
 },
 "nbformat": 4,
 "nbformat_minor": 4
}
