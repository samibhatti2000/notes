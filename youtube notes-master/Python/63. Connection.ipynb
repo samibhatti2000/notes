{
 "cells": [
  {
   "cell_type": "code",
   "execution_count": 2,
   "metadata": {},
   "outputs": [
    {
     "name": "stdout",
     "output_type": "stream",
     "text": [
      "<mysql.connector.connection_cext.CMySQLConnection object at 0x000002314C0E7850>\n",
      "Connected\n"
     ]
    }
   ],
   "source": [
    "import mysql.connector\n",
    "\n",
    "db=mysql.connector.connect(\n",
    "host=\"localhost\",\n",
    "user=\"root\",\n",
    "password=\"Sanjeet@123\"\n",
    ")\n",
    "print(db)\n",
    "print(\"Connected\")"
   ]
  },
  {
   "cell_type": "code",
   "execution_count": 4,
   "metadata": {},
   "outputs": [
    {
     "name": "stdout",
     "output_type": "stream",
     "text": [
      "<mysql.connector.connection_cext.CMySQLConnection object at 0x000002314C29FAF0>\n",
      "Connected\n"
     ]
    }
   ],
   "source": [
    "import mysql.connector\n",
    "\n",
    "db=mysql.connector.connect(\n",
    "host=\"localhost\",\n",
    "user=\"root\",\n",
    "password=\"Sanjeet@123\"\n",
    ")\n",
    "print(db)\n",
    "print(\"Connected\")\n",
    "\n"
   ]
  },
  {
   "cell_type": "code",
   "execution_count": 4,
   "metadata": {},
   "outputs": [
    {
     "name": "stdout",
     "output_type": "stream",
     "text": [
      "<mysql.connector.connection_cext.CMySQLConnection object at 0x000001C2793BD670>\n",
      "Connected\n",
      "('db',)\n",
      "('information_schema',)\n",
      "('mysql',)\n",
      "('performance_schema',)\n",
      "('sys',)\n"
     ]
    }
   ],
   "source": [
    "import mysql.connector\n",
    "\n",
    "db=mysql.connector.connect(\n",
    "host=\"localhost\",\n",
    "user=\"root\",\n",
    "password=\"Sanjeet@123\"\n",
    ")\n",
    "print(db)\n",
    "print(\"Connected\")\n",
    "\n",
    "cursor=db.cursor()\n",
    "cursor.execute(\"show databases\")\n",
    "\n",
    "for x in cursor:\n",
    "    print(x)"
   ]
  }
 ],
 "metadata": {
  "kernelspec": {
   "display_name": "Python 3",
   "language": "python",
   "name": "python3"
  },
  "language_info": {
   "codemirror_mode": {
    "name": "ipython",
    "version": 3
   },
   "file_extension": ".py",
   "mimetype": "text/x-python",
   "name": "python",
   "nbconvert_exporter": "python",
   "pygments_lexer": "ipython3",
   "version": "3.8.3"
  }
 },
 "nbformat": 4,
 "nbformat_minor": 4
}
