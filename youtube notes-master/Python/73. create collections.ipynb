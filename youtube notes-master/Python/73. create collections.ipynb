{
 "cells": [
  {
   "cell_type": "code",
   "execution_count": 9,
   "metadata": {},
   "outputs": [
    {
     "name": "stdout",
     "output_type": "stream",
     "text": [
      "Collection(Database(MongoClient(host=['localhost:27017'], document_class=dict, tz_aware=False, connect=True), 'customers'), 'customer')\n"
     ]
    }
   ],
   "source": [
    "import pymongo\n",
    "\n",
    "client=pymongo.MongoClient('mongodb://localhost:27017')\n",
    "db=client['customers']\n",
    "collection=db['customer']\n",
    "print(collection)\n",
    "mydict = [\n",
    "    { \"name\": \"John\", \"address\": \"Highway 37\" },\n",
    "    {\"name\": \"sanjeet\", \"address\": \"Highway 37\" }]\n",
    "\n",
    "x = collection.insert_many(mydict)"
   ]
  }
 ],
 "metadata": {
  "kernelspec": {
   "display_name": "Python 3",
   "language": "python",
   "name": "python3"
  },
  "language_info": {
   "codemirror_mode": {
    "name": "ipython",
    "version": 3
   },
   "file_extension": ".py",
   "mimetype": "text/x-python",
   "name": "python",
   "nbconvert_exporter": "python",
   "pygments_lexer": "ipython3",
   "version": "3.8.3"
  }
 },
 "nbformat": 4,
 "nbformat_minor": 4
}
