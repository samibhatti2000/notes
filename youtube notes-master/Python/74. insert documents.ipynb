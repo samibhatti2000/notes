{
 "cells": [
  {
   "cell_type": "code",
   "execution_count": 3,
   "metadata": {},
   "outputs": [
    {
     "name": "stdout",
     "output_type": "stream",
     "text": [
      "{'_id': ObjectId('5fb80d0b896e3970f3399d93'), 'id': '1', 'name': 'sanjeet'}\n"
     ]
    }
   ],
   "source": [
    "import pymongo\n",
    "\n",
    "client=pymongo.MongoClient('mongodb://localhost:27017')\n",
    "db=client['customers']\n",
    "collection=db['customer']\n",
    "# x=collection.insert_one({'id':'1','name':'sanjeet'})\n",
    "\n",
    "x=collection.find_one()\n",
    "print(x)"
   ]
  },
  {
   "cell_type": "code",
   "execution_count": 5,
   "metadata": {},
   "outputs": [
    {
     "name": "stdout",
     "output_type": "stream",
     "text": [
      "{'_id': ObjectId('5fb80d0b896e3970f3399d93'), 'id': '1', 'name': 'sanjeet'}\n"
     ]
    }
   ],
   "source": [
    "import pymongo\n",
    "\n",
    "client=pymongo.MongoClient('mongodb://localhost:27017')\n",
    "db=client['customers']\n",
    "collection=db['customer']\n",
    "# x=collection.insert_one({'id':'1','name':'sanjeet'})\n",
    "\n",
    "x=collection.find_one()\n",
    "print(x)"
   ]
  },
  {
   "cell_type": "code",
   "execution_count": 8,
   "metadata": {},
   "outputs": [
    {
     "name": "stdout",
     "output_type": "stream",
     "text": [
      "{'_id': ObjectId('5fb80d0b896e3970f3399d93'), 'id': '1', 'name': 'sanjeet'}\n",
      "{'_id': ObjectId('5fb80de6896e3970f3399d98'), 'id': '1', 'name': 'sanjeet'}\n",
      "{'_id': ObjectId('5fb80e1b896e3970f3399d9a'), 'id': '1', 'name': 'sanjeet'}\n",
      "{'_id': ObjectId('5fb80e1b896e3970f3399d9b'), 'id': '2', 'name': 'sohail'}\n"
     ]
    }
   ],
   "source": [
    "import pymongo\n",
    "\n",
    "client=pymongo.MongoClient('mongodb://localhost:27017')\n",
    "db=client['customers']\n",
    "collection=db['customer']\n",
    "# dict=[\n",
    "#     {'id':'1','name':'sanjeet'},\n",
    "#     {'id':'2','name':'sohail'}\n",
    "# ]\n",
    "# x=collection.insert_many(dict)\n",
    "\n",
    "# x=collection.find_one()\n",
    "\n",
    "for i in collection.find():\n",
    "    print(i)\n"
   ]
  }
 ],
 "metadata": {
  "kernelspec": {
   "display_name": "Python 3",
   "language": "python",
   "name": "python3"
  },
  "language_info": {
   "codemirror_mode": {
    "name": "ipython",
    "version": 3
   },
   "file_extension": ".py",
   "mimetype": "text/x-python",
   "name": "python",
   "nbconvert_exporter": "python",
   "pygments_lexer": "ipython3",
   "version": "3.8.3"
  }
 },
 "nbformat": 4,
 "nbformat_minor": 4
}
