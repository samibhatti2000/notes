{
 "cells": [
  {
   "cell_type": "code",
   "execution_count": 1,
   "metadata": {},
   "outputs": [
    {
     "name": "stdout",
     "output_type": "stream",
     "text": [
      "{'_id': ObjectId('5fb80ac73f38a78a7e629f8f'), 'id': 11.0, 'name': 'sanjeet', 'phone': '9877181072'}\n",
      "{'_id': ObjectId('5fb80b673f38a78a7e629f90'), 'id': 1.0, 'name': 'sanjeet', 'phone': '9877181072'}\n",
      "{'_id': ObjectId('5fb80b673f38a78a7e629f91'), 'id': 2.0, 'name': 'sohail', 'phone': '9877181082'}\n"
     ]
    }
   ],
   "source": [
    "import pymongo\n",
    "\n",
    "client=pymongo.MongoClient('mongodb://localhost:27017')\n",
    "db=client['students']\n",
    "collection=db['student']\n",
    "\n",
    "for i in collection.find():\n",
    "    print(i)"
   ]
  },
  {
   "cell_type": "code",
   "execution_count": 2,
   "metadata": {},
   "outputs": [
    {
     "name": "stdout",
     "output_type": "stream",
     "text": [
      "{'_id': ObjectId('5fb80ac73f38a78a7e629f8f'), 'id': 11.0, 'name': 'sanjeet', 'phone': '9877181072'}\n",
      "{'_id': ObjectId('5fb80b673f38a78a7e629f90'), 'id': 1.0, 'name': 'sanjeet', 'phone': '9877181072'}\n"
     ]
    }
   ],
   "source": [
    "import pymongo\n",
    "\n",
    "client=pymongo.MongoClient('mongodb://localhost:27017')\n",
    "db=client['students']\n",
    "collection=db['student']\n",
    "\n",
    "x=collection.find({'name':{'$eq':'sanjeet'}})\n",
    "for i in x:\n",
    "    print(i)"
   ]
  },
  {
   "cell_type": "code",
   "execution_count": 4,
   "metadata": {},
   "outputs": [
    {
     "name": "stdout",
     "output_type": "stream",
     "text": [
      "{'_id': ObjectId('5fb80ac73f38a78a7e629f8f'), 'id': 11.0, 'name': 'sanjeet', 'phone': '9877181072'}\n",
      "{'_id': ObjectId('5fb80b673f38a78a7e629f90'), 'id': 1.0, 'name': 'sanjeet', 'phone': '9877181072'}\n"
     ]
    }
   ],
   "source": [
    "import pymongo\n",
    "\n",
    "client=pymongo.MongoClient('mongodb://localhost:27017')\n",
    "db=client['students']\n",
    "collection=db['student']\n",
    "\n",
    "x=collection.find({'$or':[{'name':'sanjeet'},{'id':1}]})\n",
    "for i in x:\n",
    "    print(i)"
   ]
  }
 ],
 "metadata": {
  "kernelspec": {
   "display_name": "Python 3",
   "language": "python",
   "name": "python3"
  },
  "language_info": {
   "codemirror_mode": {
    "name": "ipython",
    "version": 3
   },
   "file_extension": ".py",
   "mimetype": "text/x-python",
   "name": "python",
   "nbconvert_exporter": "python",
   "pygments_lexer": "ipython3",
   "version": "3.8.3"
  }
 },
 "nbformat": 4,
 "nbformat_minor": 4
}
